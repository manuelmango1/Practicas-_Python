{
 "cells": [
  {
   "cell_type": "markdown",
   "metadata": {},
   "source": [
    "#PRACTICA 2."
   ]
  },
  {
   "cell_type": "markdown",
   "metadata": {},
   "source": [
    "#EJERCICIO 1"
   ]
  },
  {
   "cell_type": "code",
   "execution_count": null,
   "metadata": {},
   "outputs": [],
   "source": [
    "import this \n",
    "import sys\n",
    "import os\n",
    "sys.path.append(os.path.abspath(\"../src\"))\n",
    "from Functions.funcionesPractica2 import chequearZen\n",
    "\n",
    "zen_text = \"\"\"Beautiful is better than ugly.\n",
    "Explicit is better than implicit.\n",
    "Simple is better than complex.\n",
    "Complex is better than complicated.\n",
    "Flat is better than nested.\n",
    "Sparse is better than dense.\n",
    "Readability counts.\n",
    "Special cases aren't special enough to break the rules.\n",
    "Although practicality beats purity.\n",
    "Errors should never pass silently.\n",
    "Unless explicitly silenced.\n",
    "In the face of ambiguity, refuse the temptation to guess.\n",
    "There should be one-- and preferably only one --obvious way to do it.\n",
    "Although that way may not be obvious at first unless you're Dutch.\n",
    "Now is better than never.\n",
    "Although never is often better than *right* now.\n",
    "If the implementation is hard to explain, it's a bad idea.\n",
    "If the implementation is easy to explain, it may be a good idea.\n",
    "Namespaces are one honking great idea -- let's do more of those!\"\"\"\n",
    "\n",
    "vocales = (\"a\", \"e\", \"i\", \"o\", \"u\", \"A\", \"E\", \"I\", \"O\", \"U\")\n",
    "zen_text = zen_text.splitlines()\n",
    "chequearZen(zen_text, vocales)\n",
    "\n",
    "\n"
   ]
  },
  {
   "cell_type": "markdown",
   "metadata": {},
   "source": [
    "#EJERCICIO 2"
   ]
  },
  {
   "cell_type": "code",
   "execution_count": null,
   "metadata": {},
   "outputs": [],
   "source": [
    "import sys\n",
    "import os\n",
    "sys.path.append(os.path.abspath(\"../src\"))\n",
    "from Functions.funcionesPractica2 import maximoTitle\n",
    "\n",
    "titles = [\n",
    "\"Speedrun de Super Mario en tiempo récord\",\n",
    "\"Charla sobre desarrollo de videojuegos\",\n",
    "\"Jugando al nuevo FPS del momento con amigos\",\n",
    "\"Música en vivo: improvisaciones al piano\"]\n",
    "longitud_titles = len(titles)\n",
    "print(maximoTitle(titles, longitud_titles))"
   ]
  },
  {
   "cell_type": "markdown",
   "metadata": {},
   "source": [
    "#EJERCICIO 3"
   ]
  },
  {
   "cell_type": "code",
   "execution_count": null,
   "metadata": {},
   "outputs": [],
   "source": [
    "rules = \"\"\"Respeta a los demás. No se permiten insultos ni lenguaje\n",
    "ofensivo.\n",
    "Evita el spam. No publiques enlaces sospechosos o repetitivos.\n",
    "No compartas información personal.\n",
    "Usa los canales adecuados para cada tema.\n",
    "Sigue las instrucciones de los moderadores.\"\"\"\n",
    "rules = rules.split(\".\")\n",
    "ingresar_palabra = input(\"Ingrese una palabra: \")\n",
    "for palabra in rules:\n",
    "    if ingresar_palabra in palabra:\n",
    "        print(palabra)"
   ]
  },
  {
   "cell_type": "markdown",
   "metadata": {},
   "source": [
    "#EJERCICIO 4"
   ]
  },
  {
   "cell_type": "code",
   "execution_count": null,
   "metadata": {},
   "outputs": [],
   "source": [
    "import sys\n",
    "import os\n",
    "sys.path.append(os.path.abspath(\"../src\"))\n",
    "from Functions.funcionesPractica2 import registrarse\n",
    "import string\n",
    "\n",
    "mayus = string.ascii_uppercase\n",
    "minus = string.ascii_lowercase\n",
    "numeros = string.digits\n",
    "validos = mayus + minus + numeros\n",
    "\n",
    "registrarse(mayus,numeros,validos)\n"
   ]
  },
  {
   "cell_type": "markdown",
   "metadata": {},
   "source": [
    "#EJERCICIO 5\n",
    "Menos de 200 ms: Rápido\n",
    "Entre 200 y 500 ms: Normal\n",
    "Más de 500 ms: Lento"
   ]
  },
  {
   "cell_type": "code",
   "execution_count": null,
   "metadata": {},
   "outputs": [],
   "source": [
    "reaction_time = int(input(\"Ingresa tu tiempo de reaccion en ms: \"))\n",
    "cat = [\"Rapido\", \"Normal\", \"Lento\"]\n",
    "if(reaction_time < 200):\n",
    "    print(f\"Categoria: {cat[0]}\")\n",
    "elif(reaction_time >= 200 and reaction_time <= 500):\n",
    "    print(f\"Categoria: {cat[1]}\")\n",
    "else:\n",
    "    print(f\"Categoria: {cat[2]}\")"
   ]
  },
  {
   "cell_type": "markdown",
   "metadata": {},
   "source": [
    "#EJERCICIO 6"
   ]
  },
  {
   "cell_type": "code",
   "execution_count": null,
   "metadata": {},
   "outputs": [],
   "source": [
    "import sys\n",
    "import os\n",
    "sys.path.append(os.path.abspath(\"../src\"))\n",
    "\n",
    "descriptions = [\n",
    "\"Streaming de musica en vivo con covers y composiciones\",\n",
    "\"Charla interactiva con la audiencia sobre series y películas\",\n",
    "\"Jugamos a juegos retro y charlamos sobre su historia\",\n",
    "\"Exploramos la mejor musica de los 80s y 90s\",\n",
    "\"Programa de entretenimiento con noticias y curiosidades del mundo gamer\",\n",
    "\"Sesión de charla con invitados especiales del mundo del streaming\",\n",
    "\"Musica en directo con improvisaciones y peticiones del chat\",\n",
    "\"Un espacio para charlar relajada sobre tecnología y cultura digital\",\n",
    "\"Exploramos el impacto de la musica en los videojuegos clásicos\"\n",
    "]\n",
    "\n",
    "dic_descriptions = {\"entetenimiento\": 0, \"musica\":0, \"charla\":0}\n",
    "palabras_por_frase = [description.split() for description in descriptions] \n",
    "for lista_palabras in palabras_por_frase:\n",
    "    for palabra in lista_palabras:\n",
    "        palabra = palabra.lower()\n",
    "        if palabra == \"entretenimiento\":\n",
    "            dic_descriptions[\"entetenimiento\"] += 1\n",
    "        elif palabra == \"musica\":\n",
    "            dic_descriptions[\"musica\"] += 1\n",
    "        elif palabra == \"charla\":\n",
    "            dic_descriptions[\"charla\"] += 1\n",
    "print(f\"Menciones de entretenimiento: {dic_descriptions[\"entetenimiento\"]}\\nMenciones de musica: {dic_descriptions[\"musica\"]}\\nMenciones de charla: {dic_descriptions[\"charla\"]}\") "
   ]
  },
  {
   "cell_type": "markdown",
   "metadata": {},
   "source": [
    "#EJERCICIO 7"
   ]
  },
  {
   "cell_type": "code",
   "execution_count": null,
   "metadata": {},
   "outputs": [],
   "source": [
    "from datetime import datetime\n",
    "import string\n",
    "import sys\n",
    "import os\n",
    "sys.path.append(os.path.abspath(\"../src\"))\n",
    "from Functions.funcionesPractica2 import generarClave\n",
    "#CREAMOS PRIMERO EL INPUT PARA INGRESAR EL NOMBRE DE USUARIO.\n",
    "usuario = input(\"Ingrese el nombre de usuario: \")\n",
    "fecha_actual = datetime.today().strftime('%Y%m%d')\n",
    "\n",
    "if(len(usuario) <= 15):\n",
    "    claveUsuario = generarClave(usuario, fecha_actual).upper()\n",
    "    print(f\"Su clave es: {claveUsuario}\")\n",
    "else:\n",
    "    print(\"Nombre de usuario invalido, debe tener menos de 15 caracteres\")\n",
    "    sys.exit(1)"
   ]
  },
  {
   "cell_type": "markdown",
   "metadata": {},
   "source": [
    "#EJERCICIO 8"
   ]
  },
  {
   "cell_type": "code",
   "execution_count": null,
   "metadata": {},
   "outputs": [],
   "source": [
    "palabra1 = input(\"Ingrese la primera palabra: \")\n",
    "palabra2 = input(\"Ingrese la segunda palabra: \")\n",
    "\n",
    "lista_p1 = [letra for letra in palabra1]\n",
    "lista_p2 = [letra for letra in palabra2]\n",
    "\n",
    "if(sorted(lista_p1) == sorted(lista_p2)):\n",
    "    print(\"Las palabras son anagramas\")\n",
    "else:\n",
    "    print(\"Las palabras no son anagramas\")\n"
   ]
  },
  {
   "cell_type": "markdown",
   "metadata": {},
   "source": [
    "#EJERCICIO 9"
   ]
  },
  {
   "cell_type": "code",
   "execution_count": null,
   "metadata": {},
   "outputs": [],
   "source": [
    "import sys\n",
    "import os\n",
    "sys.path.append(os.path.abspath(\"../src\"))\n",
    "from Functions.funcionesPractica2 import unirPalabras\n",
    "from Functions.funcionesPractica2 import convertirAtitulo\n",
    "from Functions.funcionesPractica2 import eliminarRepetidos\n",
    "clients = [\n",
    "\" Ana López \", \"Pedro Gómez\", \"maria martínez\", \"Pedro Gómez \", \"\",\n",
    "\" Luis Rodríguez \", None, \"ana lópez\", \"JUAN PÉREZ\", \"MARTA SUÁREZ\",\n",
    "\"luis rodríguez\", \"maría martínez \", \" claudia torres\", \"CLAUDIA TORRES\",\n",
    "\" \", \"pedro gómez\", \"Juan Pérez\", None, \"Ricardo Fernández\", \"LAURA RAMOS\",\n",
    "\"carlos mendes\", \"RICARDO FERNÁNDEZ \", \" Laura ramos\", \"CARLOS MENDES\",\n",
    "\"alejandro gonzález\", \" ALEJANDRO GONZÁLEZ \", \"Patricia Vega\",\n",
    "\"patricia VEGA\", \"Andrés Ocampo\", \" andrés ocampo\", \"Monica Herrera\",\n",
    "\"MONICA HERRERA \", \"gabriela ruíz\", \"Gabriela Ruíz\", \"sandra morales\",\n",
    "\"SANDRA MORALES\", \"miguel ángel\", \"Miguel Ángel \", \" Damián Castillo\",\n",
    "\"Damián Castillo \", None, \"\", \" \"\n",
    "]\n",
    "\n",
    "clientes_corregidos = unirPalabras(clients)\n",
    "print(clientes_corregidos)\n",
    "clientes_corregidos = convertirAtitulo(clientes_corregidos)#convertidos a titulo (mayuscula al inicio de cada palabra)\n",
    "print(clientes_corregidos)\n",
    "clientes_corregidos = eliminarRepetidos(clientes_corregidos)#eliminamos los repetidos\n",
    "print(sorted(clientes_corregidos)) #enviamos a imprimir la lista ordenada de elementos"
   ]
  },
  {
   "cell_type": "markdown",
   "metadata": {},
   "source": [
    "#EJERCICIO 10"
   ]
  },
  {
   "cell_type": "code",
   "execution_count": null,
   "metadata": {},
   "outputs": [],
   "source": [
    "import sys\n",
    "import os\n",
    "sys.path.append(os.path.abspath(\"../src\"))\n",
    "from Functions.funcionesPractica2 import inicializarRonda \n",
    "from Functions.funcionesPractica2 import insertarRonda\n",
    "from Functions.funcionesPractica2 import imprimir_ranking\n",
    "rounds = [\n",
    "{\n",
    "'Shadow': {'kills': 2, 'assists': 1, 'deaths': True},\n",
    "'Blaze': {'kills': 1, 'assists': 0, 'deaths': False},\n",
    "'Viper': {'kills': 1, 'assists': 2, 'deaths': True},\n",
    "'Frost': {'kills': 0, 'assists': 1, 'deaths': False},\n",
    "'Reaper': {'kills': 1, 'assists': 1, 'deaths': False}\n",
    "},\n",
    "{\n",
    "'Shadow': {'kills': 0, 'assists': 2, 'deaths': False},\n",
    "'Blaze': {'kills': 2, 'assists': 0, 'deaths': True},\n",
    "'Viper': {'kills': 1, 'assists': 1, 'deaths': False},\n",
    "'Frost': {'kills': 2, 'assists': 1, 'deaths': True},\n",
    "'Reaper': {'kills': 0, 'assists': 1, 'deaths': False}\n",
    "},\n",
    "{\n",
    "'Shadow': {'kills': 1, 'assists': 0, 'deaths': False},\n",
    "'Blaze': {'kills': 2, 'assists': 2, 'deaths': True},\n",
    "'Viper': {'kills': 1, 'assists': 1, 'deaths': True},\n",
    "'Frost': {'kills': 0, 'assists': 1, 'deaths': False},\n",
    "'Reaper': {'kills': 1, 'assists': 1, 'deaths': False}\n",
    "},\n",
    "{\n",
    "'Shadow': {'kills': 2, 'assists': 1, 'deaths': False},\n",
    "'Blaze': {'kills': 1, 'assists': 0, 'deaths': True},\n",
    "'Viper': {'kills': 0, 'assists': 2, 'deaths': False},\n",
    "'Frost': {'kills': 1, 'assists': 1, 'deaths': True},\n",
    "'Reaper': {'kills': 1, 'assists': 1, 'deaths': False}\n",
    "},\n",
    "{\n",
    "'Shadow': {'kills': 1, 'assists': 2, 'deaths': True},\n",
    "'Blaze': {'kills': 0, 'assists': 1, 'deaths': False},\n",
    "'Viper': {'kills': 2, 'assists': 0, 'deaths': True},\n",
    "'Frost': {'kills': 1, 'assists': 1, 'deaths': False},\n",
    "'Reaper': {'kills': 1, 'assists': 1, 'deaths': True}\n",
    "}\n",
    "]\n",
    "\n",
    "acciones = {\n",
    "    \"kill\": 3,\n",
    "    \"asistencia\":1,\n",
    "    \"muerte\":-1\n",
    "}\n",
    "\n",
    "ronda = inicializarRonda()\n",
    "insertarRonda(1, rounds, ronda, acciones)\n",
    "insertarRonda(2, rounds, ronda, acciones)\n",
    "insertarRonda(3, rounds, ronda, acciones)\n",
    "imprimir_ranking(ronda)"
   ]
  }
 ],
 "metadata": {
  "kernelspec": {
   "display_name": "venv",
   "language": "python",
   "name": "python3"
  },
  "language_info": {
   "codemirror_mode": {
    "name": "ipython",
    "version": 3
   },
   "file_extension": ".py",
   "mimetype": "text/x-python",
   "name": "python",
   "nbconvert_exporter": "python",
   "pygments_lexer": "ipython3",
   "version": "3.12.9"
  }
 },
 "nbformat": 4,
 "nbformat_minor": 2
}
