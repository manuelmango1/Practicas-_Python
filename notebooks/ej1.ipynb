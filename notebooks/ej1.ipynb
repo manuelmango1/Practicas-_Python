{
 "cells": [
  {
   "cell_type": "markdown",
   "metadata": {},
   "source": [
    "#PRACTICA 2."
   ]
  },
  {
   "cell_type": "markdown",
   "metadata": {},
   "source": [
    "#EJERCICIO 1"
   ]
  },
  {
   "cell_type": "code",
   "execution_count": null,
   "metadata": {},
   "outputs": [],
   "source": [
    "import this \n",
    "import sys\n",
    "import os\n",
    "sys.path.append(os.path.abspath(\"../src\"))\n",
    "from Functions.funcionesPractica2 import chequearZen\n",
    "\n",
    "zen_text = \"\"\"Beautiful is better than ugly.\n",
    "Explicit is better than implicit.\n",
    "Simple is better than complex.\n",
    "Complex is better than complicated.\n",
    "Flat is better than nested.\n",
    "Sparse is better than dense.\n",
    "Readability counts.\n",
    "Special cases aren't special enough to break the rules.\n",
    "Although practicality beats purity.\n",
    "Errors should never pass silently.\n",
    "Unless explicitly silenced.\n",
    "In the face of ambiguity, refuse the temptation to guess.\n",
    "There should be one-- and preferably only one --obvious way to do it.\n",
    "Although that way may not be obvious at first unless you're Dutch.\n",
    "Now is better than never.\n",
    "Although never is often better than *right* now.\n",
    "If the implementation is hard to explain, it's a bad idea.\n",
    "If the implementation is easy to explain, it may be a good idea.\n",
    "Namespaces are one honking great idea -- let's do more of those!\"\"\"\n",
    "\n",
    "vocales = (\"a\", \"e\", \"i\", \"o\", \"u\", \"A\", \"E\", \"I\", \"O\", \"U\")\n",
    "zen_text = zen_text.splitlines()\n",
    "chequearZen(zen_text, vocales)\n",
    "\n",
    "\n"
   ]
  },
  {
   "cell_type": "markdown",
   "metadata": {},
   "source": [
    "#EJERCICIO 2"
   ]
  },
  {
   "cell_type": "code",
   "execution_count": null,
   "metadata": {},
   "outputs": [],
   "source": [
    "import sys\n",
    "import os\n",
    "sys.path.append(os.path.abspath(\"../src\"))\n",
    "from Functions.funcionesPractica2 import maximoTitle\n",
    "\n",
    "titles = [\n",
    "\"Speedrun de Super Mario en tiempo récord\",\n",
    "\"Charla sobre desarrollo de videojuegos\",\n",
    "\"Jugando al nuevo FPS del momento con amigos\",\n",
    "\"Música en vivo: improvisaciones al piano\"]\n",
    "longitud_titles = len(titles)\n",
    "print(maximoTitle(titles, longitud_titles))"
   ]
  },
  {
   "cell_type": "markdown",
   "metadata": {},
   "source": [
    "#EJERCICIO 3"
   ]
  },
  {
   "cell_type": "code",
   "execution_count": null,
   "metadata": {},
   "outputs": [],
   "source": [
    "rules = \"\"\"Respeta a los demás. No se permiten insultos ni lenguaje\n",
    "ofensivo.\n",
    "Evita el spam. No publiques enlaces sospechosos o repetitivos.\n",
    "No compartas información personal.\n",
    "Usa los canales adecuados para cada tema.\n",
    "Sigue las instrucciones de los moderadores.\"\"\"\n",
    "rules = rules.split(\".\")\n",
    "ingresar_palabra = input(\"Ingrese una palabra: \")\n",
    "for palabra in rules:\n",
    "    if ingresar_palabra in palabra:\n",
    "        print(palabra)"
   ]
  },
  {
   "cell_type": "markdown",
   "metadata": {},
   "source": [
    "#EJERCICIO 4"
   ]
  },
  {
   "cell_type": "code",
   "execution_count": null,
   "metadata": {},
   "outputs": [],
   "source": [
    "import sys\n",
    "import os\n",
    "sys.path.append(os.path.abspath(\"../src\"))\n",
    "from Functions.funcionesPractica2 import registrarse\n",
    "import string\n",
    "\n",
    "mayus = string.ascii_uppercase\n",
    "minus = string.ascii_lowercase\n",
    "numeros = string.digits\n",
    "validos = mayus + minus + numeros\n",
    "\n",
    "registrarse(mayus,numeros,validos)\n"
   ]
  },
  {
   "cell_type": "markdown",
   "metadata": {},
   "source": [
    "#EJERCICIO 5\n",
    "Menos de 200 ms: Rápido\n",
    "Entre 200 y 500 ms: Normal\n",
    "Más de 500 ms: Lento"
   ]
  },
  {
   "cell_type": "code",
   "execution_count": null,
   "metadata": {},
   "outputs": [],
   "source": [
    "reaction_time = int(input(\"Ingresa tu tiempo de reaccion en ms: \"))\n",
    "cat = [\"Rapido\", \"Normal\", \"Lento\"]\n",
    "if(reaction_time < 200):\n",
    "    print(f\"Categoria: {cat[0]}\")\n",
    "elif(reaction_time >= 200 and reaction_time <= 500):\n",
    "    print(f\"Categoria: {cat[1]}\")\n",
    "else:\n",
    "    print(f\"Categoria: {cat[2]}\")"
   ]
  },
  {
   "cell_type": "markdown",
   "metadata": {},
   "source": [
    "#EJERCICIO 6"
   ]
  },
  {
   "cell_type": "code",
   "execution_count": null,
   "metadata": {},
   "outputs": [],
   "source": [
    "import sys\n",
    "import os\n",
    "sys.path.append(os.path.abspath(\"../src\"))\n",
    "\n",
    "descriptions = [\n",
    "\"Streaming de musica en vivo con covers y composiciones\",\n",
    "\"Charla interactiva con la audiencia sobre series y películas\",\n",
    "\"Jugamos a juegos retro y charlamos sobre su historia\",\n",
    "\"Exploramos la mejor musica de los 80s y 90s\",\n",
    "\"Programa de entretenimiento con noticias y curiosidades del mundo gamer\",\n",
    "\"Sesión de charla con invitados especiales del mundo del streaming\",\n",
    "\"Musica en directo con improvisaciones y peticiones del chat\",\n",
    "\"Un espacio para charlar relajada sobre tecnología y cultura digital\",\n",
    "\"Exploramos el impacto de la musica en los videojuegos clásicos\"\n",
    "]\n",
    "\n",
    "dic_descriptions = {\"entetenimiento\": 0, \"musica\":0, \"charla\":0}\n",
    "palabras_por_frase = [description.split() for description in descriptions] \n",
    "for lista_palabras in palabras_por_frase:\n",
    "    for palabra in lista_palabras:\n",
    "        palabra = palabra.lower()\n",
    "        if palabra == \"entretenimiento\":\n",
    "            dic_descriptions[\"entetenimiento\"] += 1\n",
    "        elif palabra == \"musica\":\n",
    "            dic_descriptions[\"musica\"] += 1\n",
    "        elif palabra == \"charla\":\n",
    "            dic_descriptions[\"charla\"] += 1\n",
    "print(f\"Menciones de entretenimiento: {dic_descriptions[\"entetenimiento\"]}\\nMenciones de musica: {dic_descriptions[\"musica\"]}\\nMenciones de charla: {dic_descriptions[\"charla\"]}\") "
   ]
  },
  {
   "cell_type": "markdown",
   "metadata": {},
   "source": [
    "#EJERCICIO 7"
   ]
  },
  {
   "cell_type": "code",
   "execution_count": null,
   "metadata": {},
   "outputs": [
    {
     "name": "stdout",
     "output_type": "stream",
     "text": [
      "Su clave es: MMAMV1970-2025-03-31-DJIZQ6VDH\n"
     ]
    }
   ],
   "source": [
    "from datetime import datetime\n",
    "import string\n",
    "import sys\n",
    "import os\n",
    "sys.path.append(os.path.abspath(\"../src\"))\n",
    "from Functions.funcionesPractica2 import generarClave\n",
    "#CREAMOS PRIMERO EL INPUT PARA INGRESAR EL NOMBRE DE USUARIO.\n",
    "usuario = input(\"Ingrese el nombre de usuario: \")\n",
    "fecha_actual = datetime.today().strftime('%Y%m%d')\n",
    "\n",
    "if(len(usuario) <= 15):\n",
    "    claveUsuario = generarClave(usuario, fecha_actual).upper()\n",
    "    print(f\"Su clave es: {claveUsuario}\")\n",
    "else:\n",
    "    print(\"Nombre de usuario invalido, debe tener menos de 15 caracteres\")\n",
    "    sys.exit(1)"
   ]
  }
 ],
 "metadata": {
  "kernelspec": {
   "display_name": "venv",
   "language": "python",
   "name": "python3"
  },
  "language_info": {
   "codemirror_mode": {
    "name": "ipython",
    "version": 3
   },
   "file_extension": ".py",
   "mimetype": "text/x-python",
   "name": "python",
   "nbconvert_exporter": "python",
   "pygments_lexer": "ipython3",
   "version": "3.12.9"
  }
 },
 "nbformat": 4,
 "nbformat_minor": 2
}
